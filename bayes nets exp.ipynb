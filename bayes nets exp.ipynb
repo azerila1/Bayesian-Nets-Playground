{
 "cells": [
  {
   "cell_type": "code",
   "execution_count": 1,
   "metadata": {},
   "outputs": [],
   "source": [
    "import sys, os\n",
    "import numpy as np\n",
    "import pandas as pd\n",
    "\n",
    "import pgmpy"
   ]
  },
  {
   "cell_type": "code",
   "execution_count": 2,
   "metadata": {
    "scrolled": true
   },
   "outputs": [
    {
     "name": "stderr",
     "output_type": "stream",
     "text": [
      "/home/alireza/.local/lib/python3.6/site-packages/IPython/core/interactiveshell.py:3020: DtypeWarning: Columns (1) have mixed types. Specify dtype option on import or set low_memory=False.\n",
      "  interactivity=interactivity, compiler=compiler, result=result)\n"
     ]
    }
   ],
   "source": [
    "location=r'/home/alireza/assignee-analytics_personal'\n",
    "os.chdir(location)\n",
    "\n",
    "## for apriori function (run_assoc_rules_learning) :\n",
    "train_data = pd.read_csv(\"transformed_file.csv\",delimiter=';')\n",
    "\n",
    "report_filter='Reporting Location'\n",
    "filter_value='Japan'\n",
    "sortby='support'\n",
    "Filtered_Data=train_data[train_data[report_filter]==filter_value] "
   ]
  },
  {
   "cell_type": "code",
   "execution_count": 175,
   "metadata": {
    "scrolled": false
   },
   "outputs": [
    {
     "data": {
      "text/plain": [
       "(Car1) Reimb. 1St Car Exp(C)                                       0\n",
       "(Car1) Reimb. 1st Car Exp(C)                                       1\n",
       "(Car10) 2Nd Car Ee Contrib (C)                                     0\n",
       "(Car10) 2nd Car EE Contrib (C)                                     0\n",
       "(Car2) Reimb. 2Nd Car Exp(C)                                       0\n",
       "(Car2) Reimb. 2nd Car Exp(C)                                       0\n",
       "(Car3) 1St Car Tax By Ee (B)                                       0\n",
       "(Car3) 1st Car Tax by EE (B)                                       0\n",
       "(Car3)_1St_Car_Tax_By_Ee_(B)                                       0\n",
       "(Car4) 1St Car Tax By Employer (B)                                 0\n",
       "(Car4) 1St Car Tax By Er (B)                                     302\n",
       "(Car4) 1st Car Tax by ER (B)                                     631\n",
       "(Car5) 2Nd Car Tax By Ee (B)                                       0\n",
       "(Car5) 2nd Car Tax by EE (B)                                       0\n",
       "(Car6) 2Nd Car Tax By Er (B)                                       0\n",
       "(Car6) 2nd Car Tax by ER (B)                                       0\n",
       "(Car7) 1St Car Ee Contrib (B)                                      0\n",
       "(Car7) 1st Car EE Contrib (B)                                      0\n",
       "(Car8) 1St Car Ee Contrib (C)                                    448\n",
       "(Car8) 1st Car EE Contrib (C)                                    680\n",
       "(Car9) 2Nd Car Ee Contrib (B)                                      0\n",
       "(Car9) 2nd Car EE Contrib (B)                                      0\n",
       "000_506_888_Payment Of An Allowance Public Holiday                 0\n",
       "001_804_888_Employer Contribution Bankruptcy Alocation             8\n",
       "0_11_699_Incentive External                                        0\n",
       "101_711_1_Home Salary Differential Payment                         0\n",
       "102_349_207_Non-Cash Benefit For Interest-Free Building Loan       0\n",
       "102_710_7_Cost Of Living Allowance                                 0\n",
       "129_702_665_Health Care Plan Allianz World Wide Care               0\n",
       "129_710_57_Flight-Allowance                                        0\n",
       "                                                                ... \n",
       "UI Statutory EE Paid (C)                                         397\n",
       "UI Statutory ER Paid (B)                                         404\n",
       "UI Voluntary ER Paid (B)                                         168\n",
       "Ui Statutory Ee Paid (B)                                           0\n",
       "Ui Statutory Ee Paid (C)                                         311\n",
       "Ui Statutory Er Paid (B)                                         616\n",
       "Ui Statutory Er Paid (C)                                           0\n",
       "Umbrella Insurance Coverage(B)                                   117\n",
       "Umbrella Insurance Coverage(C)                                     0\n",
       "Unemployment Insurance To Be Paid To Tax Authorities               0\n",
       "Union (C)                                                          0\n",
       "Utilities (B)                                                    608\n",
       "Utilities (C)                                                      0\n",
       "Vacation Gross (C )                                                0\n",
       "Vacation Gross (C)                                                 0\n",
       "Vacation Indemnity Partial (C)                                     0\n",
       "VacationEndcontract(C)                                             0\n",
       "Vacationendcontract(C)                                             0\n",
       "Variable Compensation (B)                                          2\n",
       "Variable Compensation (C)                                        167\n",
       "Visa Net Salary                                                    0\n",
       "Visa Net Salary Adjustment                                         0\n",
       "Visa/Pass/Work Permit Fam. (B)                                    37\n",
       "Visa/Pass/Work Permit Fam. (C)                                     0\n",
       "Visa/Passport/Work Permit (B)                                     79\n",
       "Visa/Passport/Work Permit (C)                                      4\n",
       "Visa/Passport/Work Permit (C)//Visa/Pass/Work Permit Fam. (C)      0\n",
       "Voluntary Social Security Ee                                       0\n",
       "_721_Host Social Security                                          0\n",
       "___Tax Payments Made By Employer                                   0\n",
       "Length: 565, dtype: int64"
      ]
     },
     "execution_count": 175,
     "metadata": {},
     "output_type": "execute_result"
    }
   ],
   "source": [
    "Filtered_Data.iloc[:,5:].sum()"
   ]
  },
  {
   "cell_type": "code",
   "execution_count": null,
   "metadata": {},
   "outputs": [],
   "source": []
  },
  {
   "cell_type": "code",
   "execution_count": null,
   "metadata": {},
   "outputs": [],
   "source": []
  },
  {
   "cell_type": "code",
   "execution_count": 137,
   "metadata": {},
   "outputs": [],
   "source": [
    "from pgmpy.models import BayesianModel\n",
    "from pgmpy.estimators import MaximumLikelihoodEstimator, BayesianEstimator\n",
    "model = BayesianModel()"
   ]
  },
  {
   "cell_type": "code",
   "execution_count": 280,
   "metadata": {},
   "outputs": [],
   "source": [
    "model = BayesianModel([('(Car8) 1St Car Ee Contrib (C)','Utilities (B)'),\n",
    "                       ('Variable Compensation (C)','Utilities (B)'),\n",
    "                      #('Visa/Passport/Work Permit (B)','Utilities (B)'),\n",
    "                      #('UI Voluntary ER Paid (B)','Utilities (B)')\n",
    "                      ])"
   ]
  },
  {
   "cell_type": "code",
   "execution_count": 281,
   "metadata": {},
   "outputs": [],
   "source": [
    "model.fit(Filtered_Data.iloc[:,5:], estimator=MaximumLikelihoodEstimator)"
   ]
  },
  {
   "cell_type": "code",
   "execution_count": 136,
   "metadata": {},
   "outputs": [
    {
     "data": {
      "text/plain": [
       "'for cpd in model.get_cpds():\\n    print(\"CPD of {variable}:\".format(variable=cpd.variable))\\n    print(cpd)'"
      ]
     },
     "execution_count": 136,
     "metadata": {},
     "output_type": "execute_result"
    }
   ],
   "source": [
    "\"\"\"for cpd in model.get_cpds():\n",
    "    print(\"CPD of {variable}:\".format(variable=cpd.variable))\n",
    "    print(cpd)\"\"\""
   ]
  },
  {
   "cell_type": "code",
   "execution_count": 208,
   "metadata": {
    "scrolled": true
   },
   "outputs": [
    {
     "name": "stdout",
     "output_type": "stream",
     "text": [
      "+-------------------------------+----------------------------------+----------------------------------+\n",
      "| (Car8) 1St Car Ee Contrib (C) | (Car8) 1St Car Ee Contrib (C)(0) | (Car8) 1St Car Ee Contrib (C)(1) |\n",
      "+-------------------------------+----------------------------------+----------------------------------+\n",
      "| Utilities (B)(0)              | 0.730126920507682                | 0.5446428571428571               |\n",
      "+-------------------------------+----------------------------------+----------------------------------+\n",
      "| Utilities (B)(1)              | 0.269873079492318                | 0.45535714285714285              |\n",
      "+-------------------------------+----------------------------------+----------------------------------+\n"
     ]
    }
   ],
   "source": [
    "print(model.get_cpds('Utilities (B)'))"
   ]
  },
  {
   "cell_type": "code",
   "execution_count": 214,
   "metadata": {},
   "outputs": [],
   "source": [
    "a = model.get_cpds('Utilities (B)')"
   ]
  },
  {
   "cell_type": "code",
   "execution_count": 285,
   "metadata": {},
   "outputs": [
    {
     "data": {
      "text/plain": [
       "0.4"
      ]
     },
     "execution_count": 285,
     "metadata": {},
     "output_type": "execute_result"
    }
   ],
   "source": [
    "0.25+0.3*0.5"
   ]
  },
  {
   "cell_type": "code",
   "execution_count": null,
   "metadata": {},
   "outputs": [],
   "source": []
  },
  {
   "cell_type": "code",
   "execution_count": 295,
   "metadata": {},
   "outputs": [],
   "source": [
    "P_A_zero = len ( b.loc[(b['(Car8) 1St Car Ee Contrib (C)'] == 0)])/len(b)"
   ]
  },
  {
   "cell_type": "code",
   "execution_count": 296,
   "metadata": {},
   "outputs": [],
   "source": [
    "P_C_zero = len ( b.loc[(b['Utilities (B)'] == 0)])/len(b)"
   ]
  },
  {
   "cell_type": "code",
   "execution_count": 301,
   "metadata": {},
   "outputs": [
    {
     "data": {
      "text/plain": [
       "0.5290710476404464"
      ]
     },
     "execution_count": 301,
     "metadata": {},
     "output_type": "execute_result"
    }
   ],
   "source": [
    "P_C_zero*P_A_zero"
   ]
  },
  {
   "cell_type": "code",
   "execution_count": 293,
   "metadata": {},
   "outputs": [
    {
     "data": {
      "text/plain": [
       "0.5619537275064267"
      ]
     },
     "execution_count": 293,
     "metadata": {},
     "output_type": "execute_result"
    }
   ],
   "source": [
    "P_A_and_C_zero"
   ]
  },
  {
   "cell_type": "code",
   "execution_count": 260,
   "metadata": {},
   "outputs": [],
   "source": [
    "b = Filtered_Data.iloc[:,5:]"
   ]
  },
  {
   "cell_type": "code",
   "execution_count": 292,
   "metadata": {},
   "outputs": [],
   "source": [
    "P_A_and_C_zero = len ( b.loc[(b['(Car8) 1St Car Ee Contrib (C)'] == 0) & (b['Utilities (B)'] == 0)])/len(b)\n",
    "P_A_zero= len ( b.loc[(b['(Car8) 1St Car Ee Contrib (C)'] == 0)])/len(b)"
   ]
  },
  {
   "cell_type": "code",
   "execution_count": 273,
   "metadata": {},
   "outputs": [
    {
     "data": {
      "text/plain": [
       "0.730126920507682"
      ]
     },
     "execution_count": 273,
     "metadata": {},
     "output_type": "execute_result"
    }
   ],
   "source": [
    "P_A_and_C_zero/P_A_zero"
   ]
  },
  {
   "cell_type": "code",
   "execution_count": null,
   "metadata": {},
   "outputs": [],
   "source": []
  },
  {
   "cell_type": "code",
   "execution_count": null,
   "metadata": {},
   "outputs": [],
   "source": []
  },
  {
   "cell_type": "code",
   "execution_count": null,
   "metadata": {},
   "outputs": [],
   "source": []
  },
  {
   "cell_type": "code",
   "execution_count": null,
   "metadata": {},
   "outputs": [],
   "source": []
  },
  {
   "cell_type": "code",
   "execution_count": 142,
   "metadata": {},
   "outputs": [],
   "source": [
    "from pgmpy.inference import VariableElimination"
   ]
  },
  {
   "cell_type": "code",
   "execution_count": 282,
   "metadata": {},
   "outputs": [],
   "source": [
    "inference = VariableElimination(model)"
   ]
  },
  {
   "cell_type": "code",
   "execution_count": 283,
   "metadata": {},
   "outputs": [],
   "source": [
    "prob_car8_not = inference.query(variables=['Utilities (B)'],\n",
    "                                \n",
    "                evidence={'(Car8) 1St Car Ee Contrib (C)':1,  # A\n",
    "                          'Variable Compensation (C)':0})     # B"
   ]
  },
  {
   "cell_type": "code",
   "execution_count": 284,
   "metadata": {},
   "outputs": [
    {
     "name": "stdout",
     "output_type": "stream",
     "text": [
      "+-----------------+----------------------+\n",
      "| Utilities (B)   |   phi(Utilities (B)) |\n",
      "+=================+======================+\n",
      "| Utilities (B)_0 |               0.5497 |\n",
      "+-----------------+----------------------+\n",
      "| Utilities (B)_1 |               0.4503 |\n",
      "+-----------------+----------------------+\n"
     ]
    }
   ],
   "source": [
    "print(prob_car8_not['Utilities (B)'])"
   ]
  },
  {
   "cell_type": "code",
   "execution_count": 302,
   "metadata": {},
   "outputs": [],
   "source": [
    "P_A1_B0_C0 = len ( b.loc[(b['(Car8) 1St Car Ee Contrib (C)'] == 1) & \n",
    "                         (b['Variable Compensation (C)'] == 0) &\n",
    "                         (b['Utilities (B)'] == 0)] )                 / len(b)\n",
    "\n",
    "P_A1_B0= len ( b.loc[(b['(Car8) 1St Car Ee Contrib (C)'] == 1) & \n",
    "               b['Variable Compensation (C)'] == 0)])      / len(b)"
   ]
  },
  {
   "cell_type": "code",
   "execution_count": 303,
   "metadata": {},
   "outputs": [
    {
     "data": {
      "text/plain": [
       "0.549738219895288"
      ]
     },
     "execution_count": 303,
     "metadata": {},
     "output_type": "execute_result"
    }
   ],
   "source": [
    "P_A1_B0_C0/P_A1_B0"
   ]
  }
 ],
 "metadata": {
  "kernelspec": {
   "display_name": "Python 3",
   "language": "python",
   "name": "python3"
  },
  "language_info": {
   "codemirror_mode": {
    "name": "ipython",
    "version": 3
   },
   "file_extension": ".py",
   "mimetype": "text/x-python",
   "name": "python",
   "nbconvert_exporter": "python",
   "pygments_lexer": "ipython3",
   "version": "3.6.7"
  }
 },
 "nbformat": 4,
 "nbformat_minor": 2
}
